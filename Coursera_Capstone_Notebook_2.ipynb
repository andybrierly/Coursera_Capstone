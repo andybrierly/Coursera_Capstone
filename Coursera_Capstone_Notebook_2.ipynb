{
    "cells": [
        {
            "cell_type": "markdown",
            "metadata": {},
            "source": "# Notebook 2 for Capstone assignment"
        },
        {
            "cell_type": "markdown",
            "metadata": {},
            "source": "*This notebook will be used for the Coursera Capstone assignment*"
        },
        {
            "cell_type": "markdown",
            "metadata": {},
            "source": "## Exploring Toronto\n### Segmenting and Clustering Neighborhoods in Toronto assignment"
        },
        {
            "cell_type": "markdown",
            "metadata": {},
            "source": "Install Beautiful Soup 4 to scrape wiki page and link to web page"
        },
        {
            "cell_type": "code",
            "execution_count": 1,
            "metadata": {},
            "outputs": [
                {
                    "name": "stdout",
                    "output_type": "stream",
                    "text": "Document loaded into Beautiful Soup:  List of postal codes of Canada: M - Wikipedia\n"
                }
            ],
            "source": "# import libraries\nimport pandas as pd\nimport numpy as np\nfrom bs4 import BeautifulSoup\nfrom urllib.request import urlopen\nfrom urllib import request\n\nurl = \"https://en.wikipedia.org/wiki/List_of_postal_codes_of_Canada:_M\"\n\ncontent = urlopen(url).read()\nsoup = BeautifulSoup(content)\n\nprint (\"Document loaded into Beautiful Soup: \", soup.title.string)\n"
        },
        {
            "cell_type": "markdown",
            "metadata": {},
            "source": "Upload wiki table into a csv file, dressing 'Not assigned' data"
        },
        {
            "cell_type": "code",
            "execution_count": 2,
            "metadata": {},
            "outputs": [],
            "source": "req = urlopen(url)\narticle = req.read().decode()\n\nwith open('ISO_3166-1_alpha-2.html', 'w') as fo:\n    fo.write(article)\n\n# Load article, turn into soup and get the table.\narticle = open('ISO_3166-1_alpha-2.html').read()\nsoup = BeautifulSoup(article, 'html.parser')\ntables = soup.find_all('table', class_='sortable')\n\n# Search through the tables for the one with the headings we want.\nfor table in tables:\n    ths = table.find_all('th')\n    headings = [th.text.strip() for th in ths]\n    if headings[:5] == ['Postcode', 'Borough', 'Neighbourhood', 'ISO 3166-2']:\n        break\n\n# Extract the columns we want and write to a semicolon-delimited text file.\nwith open('iso_3166-1_alpha-2_codes.txt', 'w') as fo:\n    for tr in table.find_all('tr'):\n        tds = tr.find_all('td')\n        if not tds:\n            continue\n        Postcode, Borough, Neighbourhood = [td.text.strip() for td in tds[:3]]\n\n        # extract rows where borough unassigned and use borogh name where Neighbourhood unassigned\n        if 'Not assigned' in Borough:\n            continue \n        if 'Not assigned' in Neighbourhood:\n            Neighbourhood = Borough\n        print('; '.join([Postcode, Borough, Neighbourhood]), file=fo)"
        },
        {
            "cell_type": "markdown",
            "metadata": {},
            "source": "Read csv file into dataframe"
        },
        {
            "cell_type": "code",
            "execution_count": 3,
            "metadata": {},
            "outputs": [],
            "source": "df = pd.read_csv('iso_3166-1_alpha-2_codes.txt', sep=';', header=None, names=['Postcode', 'Borough', 'Neighbourhood'])"
        },
        {
            "cell_type": "markdown",
            "metadata": {},
            "source": "Combine Neighbourhoods in same Postcode and drop resulting duplicate postcodes"
        },
        {
            "cell_type": "code",
            "execution_count": 4,
            "metadata": {},
            "outputs": [
                {
                    "name": "stdout",
                    "output_type": "stream",
                    "text": "Head of cleaned Dataframe: (top 20 rows)\n"
                },
                {
                    "data": {
                        "text/html": "<div>\n<style scoped>\n    .dataframe tbody tr th:only-of-type {\n        vertical-align: middle;\n    }\n\n    .dataframe tbody tr th {\n        vertical-align: top;\n    }\n\n    .dataframe thead th {\n        text-align: right;\n    }\n</style>\n<table border=\"1\" class=\"dataframe\">\n  <thead>\n    <tr style=\"text-align: right;\">\n      <th></th>\n      <th>Postcode</th>\n      <th>Borough</th>\n      <th>Neighbourhood</th>\n    </tr>\n  </thead>\n  <tbody>\n    <tr>\n      <th>0</th>\n      <td>M3A</td>\n      <td>North York</td>\n      <td>Parkwoods</td>\n    </tr>\n    <tr>\n      <th>1</th>\n      <td>M4A</td>\n      <td>North York</td>\n      <td>Victoria Village</td>\n    </tr>\n    <tr>\n      <th>2</th>\n      <td>M5A</td>\n      <td>Downtown Toronto</td>\n      <td>Harbourfront</td>\n    </tr>\n    <tr>\n      <th>3</th>\n      <td>M6A</td>\n      <td>North York</td>\n      <td>Lawrence Heights, Lawrence Manor</td>\n    </tr>\n    <tr>\n      <th>4</th>\n      <td>M7A</td>\n      <td>Queen's Park</td>\n      <td>Queen's Park</td>\n    </tr>\n    <tr>\n      <th>5</th>\n      <td>M9A</td>\n      <td>Queen's Park</td>\n      <td>Queen's Park</td>\n    </tr>\n    <tr>\n      <th>6</th>\n      <td>M1B</td>\n      <td>Scarborough</td>\n      <td>Rouge, Malvern</td>\n    </tr>\n    <tr>\n      <th>7</th>\n      <td>M3B</td>\n      <td>North York</td>\n      <td>Don Mills North</td>\n    </tr>\n    <tr>\n      <th>8</th>\n      <td>M4B</td>\n      <td>East York</td>\n      <td>Woodbine Gardens, Parkview Hill</td>\n    </tr>\n    <tr>\n      <th>9</th>\n      <td>M5B</td>\n      <td>Downtown Toronto</td>\n      <td>Ryerson, Garden District</td>\n    </tr>\n    <tr>\n      <th>10</th>\n      <td>M6B</td>\n      <td>North York</td>\n      <td>Glencairn</td>\n    </tr>\n    <tr>\n      <th>11</th>\n      <td>M9B</td>\n      <td>Etobicoke</td>\n      <td>Cloverdale, Islington, Martin Grove, Princess...</td>\n    </tr>\n    <tr>\n      <th>12</th>\n      <td>M1C</td>\n      <td>Scarborough</td>\n      <td>Highland Creek, Rouge Hill, Port Union</td>\n    </tr>\n    <tr>\n      <th>13</th>\n      <td>M3C</td>\n      <td>North York</td>\n      <td>Flemingdon Park, Don Mills South</td>\n    </tr>\n    <tr>\n      <th>14</th>\n      <td>M4C</td>\n      <td>East York</td>\n      <td>Woodbine Heights</td>\n    </tr>\n    <tr>\n      <th>15</th>\n      <td>M5C</td>\n      <td>Downtown Toronto</td>\n      <td>St. James Town</td>\n    </tr>\n    <tr>\n      <th>16</th>\n      <td>M6C</td>\n      <td>York</td>\n      <td>Humewood-Cedarvale</td>\n    </tr>\n    <tr>\n      <th>17</th>\n      <td>M9C</td>\n      <td>Etobicoke</td>\n      <td>Bloordale Gardens, Eringate, Markland Wood, O...</td>\n    </tr>\n    <tr>\n      <th>18</th>\n      <td>M1E</td>\n      <td>Scarborough</td>\n      <td>Guildwood, Morningside, West Hill</td>\n    </tr>\n    <tr>\n      <th>19</th>\n      <td>M4E</td>\n      <td>East Toronto</td>\n      <td>The Beaches</td>\n    </tr>\n  </tbody>\n</table>\n</div>",
                        "text/plain": "   Postcode            Borough  \\\n0       M3A         North York   \n1       M4A         North York   \n2       M5A   Downtown Toronto   \n3       M6A         North York   \n4       M7A       Queen's Park   \n5       M9A       Queen's Park   \n6       M1B        Scarborough   \n7       M3B         North York   \n8       M4B          East York   \n9       M5B   Downtown Toronto   \n10      M6B         North York   \n11      M9B          Etobicoke   \n12      M1C        Scarborough   \n13      M3C         North York   \n14      M4C          East York   \n15      M5C   Downtown Toronto   \n16      M6C               York   \n17      M9C          Etobicoke   \n18      M1E        Scarborough   \n19      M4E       East Toronto   \n\n                                        Neighbourhood  \n0                                           Parkwoods  \n1                                    Victoria Village  \n2                                        Harbourfront  \n3                    Lawrence Heights, Lawrence Manor  \n4                                        Queen's Park  \n5                                        Queen's Park  \n6                                      Rouge, Malvern  \n7                                     Don Mills North  \n8                     Woodbine Gardens, Parkview Hill  \n9                            Ryerson, Garden District  \n10                                          Glencairn  \n11   Cloverdale, Islington, Martin Grove, Princess...  \n12             Highland Creek, Rouge Hill, Port Union  \n13                   Flemingdon Park, Don Mills South  \n14                                   Woodbine Heights  \n15                                     St. James Town  \n16                                 Humewood-Cedarvale  \n17   Bloordale Gardens, Eringate, Markland Wood, O...  \n18                  Guildwood, Morningside, West Hill  \n19                                        The Beaches  "
                    },
                    "execution_count": 4,
                    "metadata": {},
                    "output_type": "execute_result"
                }
            ],
            "source": "for i,row in df.iterrows():\n    if i==0: \n        continue\n    if (df.at[i,'Postcode'] == df.at[i-1,'Postcode']):\n        df.at[i,'Neighbourhood'] = df.at[i-1,'Neighbourhood'] + \",\" + df.at[i,'Neighbourhood']\n        df.at[i-1,'Postcode'] = 'Delete'\n                                     \ndf.drop(df[df.Postcode == 'Delete'].index, inplace=True)\ndf.reset_index(drop=True, inplace=True)\nprint(\"Head of cleaned Dataframe: (top 20 rows)\")\ndf.head(20)"
        },
        {
            "cell_type": "code",
            "execution_count": 5,
            "metadata": {},
            "outputs": [
                {
                    "name": "stdout",
                    "output_type": "stream",
                    "text": "Check the size/shape of the dataframe:\n"
                },
                {
                    "data": {
                        "text/plain": "(103, 3)"
                    },
                    "execution_count": 5,
                    "metadata": {},
                    "output_type": "execute_result"
                }
            ],
            "source": "print(\"Check the size/shape of the dataframe:\")\ndf.shape"
        },
        {
            "cell_type": "code",
            "execution_count": null,
            "metadata": {},
            "outputs": [],
            "source": ""
        }
    ],
    "metadata": {
        "kernelspec": {
            "display_name": "Python 3.6",
            "language": "python",
            "name": "python3"
        },
        "language_info": {
            "codemirror_mode": {
                "name": "ipython",
                "version": 3
            },
            "file_extension": ".py",
            "mimetype": "text/x-python",
            "name": "python",
            "nbconvert_exporter": "python",
            "pygments_lexer": "ipython3",
            "version": "3.6.8"
        }
    },
    "nbformat": 4,
    "nbformat_minor": 4
}