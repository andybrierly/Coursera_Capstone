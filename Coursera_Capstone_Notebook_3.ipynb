{
    "cells": [
        {
            "cell_type": "markdown",
            "metadata": {},
            "source": "# Notebook 3 for Capstone assignment"
        },
        {
            "cell_type": "markdown",
            "metadata": {},
            "source": "*This notebook will be used for the Coursera Capstone assignment*"
        },
        {
            "cell_type": "markdown",
            "metadata": {},
            "source": "## Exploring Toronto\n### Segmenting and Clustering Neighborhoods in Toronto assignment"
        },
        {
            "cell_type": "markdown",
            "metadata": {},
            "source": "*Duplicated from Notebook 2*"
        },
        {
            "cell_type": "markdown",
            "metadata": {},
            "source": "Install Beautiful Soup 4 to scrape wiki page and link to web page"
        },
        {
            "cell_type": "code",
            "execution_count": 1,
            "metadata": {},
            "outputs": [
                {
                    "name": "stdout",
                    "output_type": "stream",
                    "text": "Document loaded into Beautiful Soup:  List of postal codes of Canada: M - Wikipedia\n"
                }
            ],
            "source": "# import libraries\nimport pandas as pd\nimport numpy as np\nfrom bs4 import BeautifulSoup\nfrom urllib.request import urlopen\nfrom urllib import request\n\nurl = \"https://en.wikipedia.org/wiki/List_of_postal_codes_of_Canada:_M\"\n\ncontent = urlopen(url).read()\nsoup = BeautifulSoup(content)\n\nprint (\"Document loaded into Beautiful Soup: \", soup.title.string)\n"
        },
        {
            "cell_type": "markdown",
            "metadata": {},
            "source": "Upload wiki table into a csv file, dressing 'Not assigned' data"
        },
        {
            "cell_type": "code",
            "execution_count": 2,
            "metadata": {},
            "outputs": [],
            "source": "req = urlopen(url)\narticle = req.read().decode()\n\nwith open('ISO_3166-1_alpha-2.html', 'w') as fo:\n    fo.write(article)\n\n# Load article, turn into soup and get the table.\narticle = open('ISO_3166-1_alpha-2.html').read()\nsoup = BeautifulSoup(article, 'html.parser')\ntables = soup.find_all('table', class_='sortable')\n\n# Search through the tables for the one with the headings we want.\nfor table in tables:\n    ths = table.find_all('th')\n    headings = [th.text.strip() for th in ths]\n    if headings[:5] == ['Postcode', 'Borough', 'Neighbourhood', 'ISO 3166-2']:\n        break\n\n# Extract the columns we want and write to a semicolon-delimited text file.\nwith open('iso_3166-1_alpha-2_codes.txt', 'w') as fo:\n    for tr in table.find_all('tr'):\n        tds = tr.find_all('td')\n        if not tds:\n            continue\n        Postcode, Borough, Neighbourhood = [td.text.strip() for td in tds[:3]]\n\n        # extract rows where borough unassigned and use borogh name where Neighbourhood unassigned\n        if 'Not assigned' in Borough:\n            continue \n        if 'Not assigned' in Neighbourhood:\n            Neighbourhood = Borough\n        print('; '.join([Postcode, Borough, Neighbourhood]), file=fo)"
        },
        {
            "cell_type": "markdown",
            "metadata": {},
            "source": "Read csv file into dataframe"
        },
        {
            "cell_type": "code",
            "execution_count": 3,
            "metadata": {},
            "outputs": [],
            "source": "df = pd.read_csv('iso_3166-1_alpha-2_codes.txt', sep=';', header=None, names=['Postcode', 'Borough', 'Neighbourhood'])"
        },
        {
            "cell_type": "markdown",
            "metadata": {},
            "source": "Combine Neighbourhoods in same Postcode and drop resulting duplicate postcodes"
        },
        {
            "cell_type": "code",
            "execution_count": 4,
            "metadata": {},
            "outputs": [
                {
                    "name": "stdout",
                    "output_type": "stream",
                    "text": "Head of cleaned Dataframe: \n"
                },
                {
                    "data": {
                        "text/html": "<div>\n<style scoped>\n    .dataframe tbody tr th:only-of-type {\n        vertical-align: middle;\n    }\n\n    .dataframe tbody tr th {\n        vertical-align: top;\n    }\n\n    .dataframe thead th {\n        text-align: right;\n    }\n</style>\n<table border=\"1\" class=\"dataframe\">\n  <thead>\n    <tr style=\"text-align: right;\">\n      <th></th>\n      <th>Postcode</th>\n      <th>Borough</th>\n      <th>Neighbourhood</th>\n    </tr>\n  </thead>\n  <tbody>\n    <tr>\n      <th>0</th>\n      <td>M3A</td>\n      <td>North York</td>\n      <td>Parkwoods</td>\n    </tr>\n    <tr>\n      <th>1</th>\n      <td>M4A</td>\n      <td>North York</td>\n      <td>Victoria Village</td>\n    </tr>\n    <tr>\n      <th>2</th>\n      <td>M5A</td>\n      <td>Downtown Toronto</td>\n      <td>Harbourfront</td>\n    </tr>\n    <tr>\n      <th>3</th>\n      <td>M6A</td>\n      <td>North York</td>\n      <td>Lawrence Heights, Lawrence Manor</td>\n    </tr>\n    <tr>\n      <th>4</th>\n      <td>M7A</td>\n      <td>Queen's Park</td>\n      <td>Queen's Park</td>\n    </tr>\n  </tbody>\n</table>\n</div>",
                        "text/plain": "  Postcode            Borough                      Neighbourhood\n0      M3A         North York                          Parkwoods\n1      M4A         North York                   Victoria Village\n2      M5A   Downtown Toronto                       Harbourfront\n3      M6A         North York   Lawrence Heights, Lawrence Manor\n4      M7A       Queen's Park                       Queen's Park"
                    },
                    "execution_count": 4,
                    "metadata": {},
                    "output_type": "execute_result"
                }
            ],
            "source": "for i,row in df.iterrows():\n    if i==0: \n        continue\n    if (df.at[i,'Postcode'] == df.at[i-1,'Postcode']):\n        df.at[i,'Neighbourhood'] = df.at[i-1,'Neighbourhood'] + \",\" + df.at[i,'Neighbourhood']\n        df.at[i-1,'Postcode'] = 'Delete'\n                                     \ndf.drop(df[df.Postcode == 'Delete'].index, inplace=True)\ndf.reset_index(drop=True, inplace=True)\nprint(\"Head of cleaned Dataframe: \")\ndf.head()"
        },
        {
            "cell_type": "code",
            "execution_count": 5,
            "metadata": {},
            "outputs": [
                {
                    "name": "stdout",
                    "output_type": "stream",
                    "text": "Check the size/shape of the dataframe:\n"
                },
                {
                    "data": {
                        "text/plain": "(103, 3)"
                    },
                    "execution_count": 5,
                    "metadata": {},
                    "output_type": "execute_result"
                }
            ],
            "source": "print(\"Check the size/shape of the dataframe:\")\ndf.shape"
        },
        {
            "cell_type": "markdown",
            "metadata": {},
            "source": "## Adding Geospacial data"
        },
        {
            "cell_type": "markdown",
            "metadata": {},
            "source": "Upload csv file (geocoder would not install on Watson)"
        },
        {
            "cell_type": "code",
            "execution_count": 6,
            "metadata": {},
            "outputs": [
                {
                    "data": {
                        "text/html": "<div>\n<style scoped>\n    .dataframe tbody tr th:only-of-type {\n        vertical-align: middle;\n    }\n\n    .dataframe tbody tr th {\n        vertical-align: top;\n    }\n\n    .dataframe thead th {\n        text-align: right;\n    }\n</style>\n<table border=\"1\" class=\"dataframe\">\n  <thead>\n    <tr style=\"text-align: right;\">\n      <th></th>\n      <th>Postcode</th>\n      <th>Latitude</th>\n      <th>Longitude</th>\n    </tr>\n  </thead>\n  <tbody>\n    <tr>\n      <th>0</th>\n      <td>M1B</td>\n      <td>43.806686</td>\n      <td>-79.194353</td>\n    </tr>\n    <tr>\n      <th>1</th>\n      <td>M1C</td>\n      <td>43.784535</td>\n      <td>-79.160497</td>\n    </tr>\n    <tr>\n      <th>2</th>\n      <td>M1E</td>\n      <td>43.763573</td>\n      <td>-79.188711</td>\n    </tr>\n    <tr>\n      <th>3</th>\n      <td>M1G</td>\n      <td>43.770992</td>\n      <td>-79.216917</td>\n    </tr>\n    <tr>\n      <th>4</th>\n      <td>M1H</td>\n      <td>43.773136</td>\n      <td>-79.239476</td>\n    </tr>\n  </tbody>\n</table>\n</div>",
                        "text/plain": "  Postcode   Latitude  Longitude\n0      M1B  43.806686 -79.194353\n1      M1C  43.784535 -79.160497\n2      M1E  43.763573 -79.188711\n3      M1G  43.770992 -79.216917\n4      M1H  43.773136 -79.239476"
                    },
                    "execution_count": 6,
                    "metadata": {},
                    "output_type": "execute_result"
                }
            ],
            "source": "geo_df = pd.read_csv('http://cocl.us/Geospatial_data')\ngeo_df = geo_df.rename(columns = {\"Postal Code\":\"Postcode\"})\ngeo_df.head()"
        },
        {
            "cell_type": "markdown",
            "metadata": {},
            "source": "Add geospacial data to Toronto dataframe"
        },
        {
            "cell_type": "code",
            "execution_count": 7,
            "metadata": {},
            "outputs": [
                {
                    "data": {
                        "text/html": "<div>\n<style scoped>\n    .dataframe tbody tr th:only-of-type {\n        vertical-align: middle;\n    }\n\n    .dataframe tbody tr th {\n        vertical-align: top;\n    }\n\n    .dataframe thead th {\n        text-align: right;\n    }\n</style>\n<table border=\"1\" class=\"dataframe\">\n  <thead>\n    <tr style=\"text-align: right;\">\n      <th></th>\n      <th>Postcode</th>\n      <th>Borough</th>\n      <th>Neighbourhood</th>\n      <th>Latitude</th>\n      <th>Longitude</th>\n    </tr>\n  </thead>\n  <tbody>\n    <tr>\n      <th>0</th>\n      <td>M3A</td>\n      <td>North York</td>\n      <td>Parkwoods</td>\n      <td>43.753259</td>\n      <td>-79.329656</td>\n    </tr>\n    <tr>\n      <th>1</th>\n      <td>M4A</td>\n      <td>North York</td>\n      <td>Victoria Village</td>\n      <td>43.725882</td>\n      <td>-79.315572</td>\n    </tr>\n    <tr>\n      <th>2</th>\n      <td>M5A</td>\n      <td>Downtown Toronto</td>\n      <td>Harbourfront</td>\n      <td>43.654260</td>\n      <td>-79.360636</td>\n    </tr>\n    <tr>\n      <th>3</th>\n      <td>M6A</td>\n      <td>North York</td>\n      <td>Lawrence Heights, Lawrence Manor</td>\n      <td>43.718518</td>\n      <td>-79.464763</td>\n    </tr>\n    <tr>\n      <th>4</th>\n      <td>M7A</td>\n      <td>Queen's Park</td>\n      <td>Queen's Park</td>\n      <td>43.662301</td>\n      <td>-79.389494</td>\n    </tr>\n  </tbody>\n</table>\n</div>",
                        "text/plain": "  Postcode            Borough                      Neighbourhood   Latitude  \\\n0      M3A         North York                          Parkwoods  43.753259   \n1      M4A         North York                   Victoria Village  43.725882   \n2      M5A   Downtown Toronto                       Harbourfront  43.654260   \n3      M6A         North York   Lawrence Heights, Lawrence Manor  43.718518   \n4      M7A       Queen's Park                       Queen's Park  43.662301   \n\n   Longitude  \n0 -79.329656  \n1 -79.315572  \n2 -79.360636  \n3 -79.464763  \n4 -79.389494  "
                    },
                    "execution_count": 7,
                    "metadata": {},
                    "output_type": "execute_result"
                }
            ],
            "source": "Toronto_df = pd.merge(left=df, right=geo_df)\nToronto_df.head()"
        },
        {
            "cell_type": "code",
            "execution_count": 8,
            "metadata": {},
            "outputs": [
                {
                    "data": {
                        "text/plain": "(103, 5)"
                    },
                    "execution_count": 8,
                    "metadata": {},
                    "output_type": "execute_result"
                }
            ],
            "source": "Toronto_df.shape"
        },
        {
            "cell_type": "code",
            "execution_count": null,
            "metadata": {},
            "outputs": [],
            "source": ""
        }
    ],
    "metadata": {
        "kernelspec": {
            "display_name": "Python 3.6",
            "language": "python",
            "name": "python3"
        },
        "language_info": {
            "codemirror_mode": {
                "name": "ipython",
                "version": 3
            },
            "file_extension": ".py",
            "mimetype": "text/x-python",
            "name": "python",
            "nbconvert_exporter": "python",
            "pygments_lexer": "ipython3",
            "version": "3.6.8"
        }
    },
    "nbformat": 4,
    "nbformat_minor": 4
}